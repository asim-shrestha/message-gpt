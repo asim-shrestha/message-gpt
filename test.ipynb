{
 "cells": [
  {
   "cell_type": "code",
   "execution_count": 71,
   "metadata": {
    "collapsed": true
   },
   "outputs": [
    {
     "name": "stdout",
     "output_type": "stream",
     "text": [
      "<torch.cuda.device object at 0x0000021CCD0B51E0>\n",
      "NVIDIA GeForce GTX 1080 Ti\n"
     ]
    }
   ],
   "source": [
    "# Validate GPU\n",
    "import torch\n",
    "assert(torch.cuda.is_available())\n",
    "assert(torch.cuda.device_count() > 0)\n",
    "assert(torch.cuda.current_device() == 0)\n",
    "print(torch.cuda.device(0))\n",
    "print(torch.cuda.get_device_name(0))"
   ]
  },
  {
   "cell_type": "code",
   "execution_count": 72,
   "outputs": [],
   "source": [
    "# Load dataset\n",
    "with open('input.txt', 'r', encoding='utf-8') as f:\n",
    "    text = f.read()"
   ],
   "metadata": {
    "collapsed": false
   }
  },
  {
   "cell_type": "code",
   "execution_count": 73,
   "outputs": [
    {
     "name": "stdout",
     "output_type": "stream",
     "text": [
      "Length of data in characters:  196215 \n",
      "---------------------\n",
      "\n",
      "Asim Shrestha: my ssd is finally not dog\n",
      "Srijan Subedi: What’s the spec\n",
      "Srijan Subedi: Ahieeee\n",
      "Asim \n"
     ]
    }
   ],
   "source": [
    "print(\"Length of data in characters: \", len(text), \"\\n---------------------\\n\")\n",
    "print(text[:100])"
   ],
   "metadata": {
    "collapsed": false
   }
  },
  {
   "cell_type": "code",
   "execution_count": 74,
   "outputs": [
    {
     "name": "stdout",
     "output_type": "stream",
     "text": [
      "\n",
      " !\"#$%&'()*+,-./0123456789:;=>?@ABCDEFGHIJKLMNOPQRSTUVWXYZ\\^_`abcdefghijklmnopqrstuvwxyzकजदनभमशािुो्ਇਕਖਗਜਟਦਮਰਸਹ਼ਿੁੂੇੈੰੱ༼༽‍’“”…◕☁☠♂⛵❤つ️🇦🇨🇮🇳🇵🇷🍆🍌🍑🍕🎄🎅🎉🏀🏍🐐🐦👀👈👉👍👎👑👨👳💀💋💤💥💦💩💯📿🔝🔬🕎🕯🖐😂😆😉😌😍😎😐😔😘😡😢😬😭😮😱🙌🙏🚫🛌🛐🛥🤓🤔🤕🤛🤝🤡🤢🤣🤨🤪🤬🤮🤲🥜🥲🥵🥶🦶🧠🧢🫡\n",
      "215\n"
     ]
    }
   ],
   "source": [
    "# Look at all the unique characters within the text\n",
    "chars = sorted(list(set(text)))\n",
    "vocab_size = len(chars)\n",
    "print(''.join(chars))\n",
    "print(vocab_size)"
   ],
   "metadata": {
    "collapsed": false
   }
  },
  {
   "cell_type": "code",
   "execution_count": 75,
   "outputs": [
    {
     "name": "stdout",
     "output_type": "stream",
     "text": [
      "Hey... whats up?\n",
      "[40, 67, 87, 15, 15, 15, 1, 85, 70, 63, 82, 81, 1, 83, 78, 31]\n",
      "Hey... whats up?\n"
     ]
    }
   ],
   "source": [
    "# Encoding / decoding function are just lookup tables from the string / number and vice versa\n",
    "strToNum = { ch:i for i,ch in enumerate(chars) }\n",
    "numToStr = { i:ch for i,ch in enumerate(chars) }\n",
    "encode = lambda string : [strToNum[char] for char in string]\n",
    "decode = lambda num_list : ''.join([numToStr[i] for i in num_list])\n",
    "\n",
    "startString = \"Hey... whats up?\"\n",
    "encoded = encode(startString)\n",
    "decoded = decode(encoded)\n",
    "\n",
    "print(startString)\n",
    "print(encoded)\n",
    "print(decoded)"
   ],
   "metadata": {
    "collapsed": false
   }
  },
  {
   "cell_type": "code",
   "execution_count": 76,
   "outputs": [
    {
     "name": "stdout",
     "output_type": "stream",
     "text": [
      "torch.Size([196215]) torch.int64\n"
     ]
    }
   ],
   "source": [
    "data = torch.tensor(encode(text), dtype=torch.long)\n",
    "print(data.shape, data.dtype)"
   ],
   "metadata": {
    "collapsed": false
   }
  },
  {
   "cell_type": "code",
   "execution_count": 77,
   "outputs": [],
   "source": [
    "# Separate data into train/test split\n",
    "n = int(0.9 * len(data))\n",
    "train_data = data[:n]\n",
    "val_data = data[n:]"
   ],
   "metadata": {
    "collapsed": false
   }
  },
  {
   "cell_type": "code",
   "execution_count": 78,
   "outputs": [
    {
     "data": {
      "text/plain": "tensor([33, 81, 71, 75,  1, 51, 70, 80, 67])"
     },
     "execution_count": 78,
     "metadata": {},
     "output_type": "execute_result"
    }
   ],
   "source": [
    "block_size = 8 # Can also be called context length\n",
    "train_data[:block_size + 1] # Add plus one"
   ],
   "metadata": {
    "collapsed": false
   }
  },
  {
   "cell_type": "code",
   "execution_count": 79,
   "outputs": [
    {
     "name": "stdout",
     "output_type": "stream",
     "text": [
      "When input is tensor([33]) the target: 81\n",
      "When input is tensor([33, 81]) the target: 71\n",
      "When input is tensor([33, 81, 71]) the target: 75\n",
      "When input is tensor([33, 81, 71, 75]) the target: 1\n",
      "When input is tensor([33, 81, 71, 75,  1]) the target: 51\n",
      "When input is tensor([33, 81, 71, 75,  1, 51]) the target: 70\n",
      "When input is tensor([33, 81, 71, 75,  1, 51, 70]) the target: 80\n",
      "When input is tensor([33, 81, 71, 75,  1, 51, 70, 80]) the target: 67\n"
     ]
    }
   ],
   "source": [
    "# Example. It learns that given some series of input, the next character will be TARGET\n",
    "x = train_data[:block_size]\n",
    "y = train_data[1:block_size + 1]\n",
    "for t in range(block_size):\n",
    "    context = x[:t+1]\n",
    "    target = y[t]\n",
    "    print(f\"When input is {context} the target: {target}\")"
   ],
   "metadata": {
    "collapsed": false
   }
  },
  {
   "cell_type": "code",
   "execution_count": 80,
   "outputs": [
    {
     "name": "stdout",
     "output_type": "stream",
     "text": [
      "inputs:\n",
      "torch.Size([4, 8])\n",
      "tensor([[ 71,  72,  63,  76,   1,  51,  83,  64],\n",
      "        [ 70,  63,  27,   1,  70,  82,  82,  78],\n",
      "        [  1,  51,  70,  71,  76,  27,   1,  33],\n",
      "        [ 21,   1, 157,   0,  51,  80,  71,  72]])\n",
      "targets:\n",
      "torch.Size([4, 8])\n",
      "tensor([[ 72,  63,  76,   1,  51,  83,  64,  67],\n",
      "        [ 63,  27,   1,  70,  82,  82,  78,  81],\n",
      "        [ 51,  70,  71,  76,  27,   1,  33,  71],\n",
      "        [  1, 157,   0,  51,  80,  71,  72,  63]])\n",
      "----\n",
      "When input is [71] the target is: 72\n",
      "When input is [71, 72] the target is: 63\n",
      "When input is [71, 72, 63] the target is: 76\n",
      "When input is [71, 72, 63, 76] the target is: 1\n",
      "When input is [71, 72, 63, 76, 1] the target is: 51\n",
      "When input is [71, 72, 63, 76, 1, 51] the target is: 83\n",
      "When input is [71, 72, 63, 76, 1, 51, 83] the target is: 64\n",
      "When input is [71, 72, 63, 76, 1, 51, 83, 64] the target is: 67\n",
      "When input is [70] the target is: 63\n",
      "When input is [70, 63] the target is: 27\n",
      "When input is [70, 63, 27] the target is: 1\n",
      "When input is [70, 63, 27, 1] the target is: 70\n",
      "When input is [70, 63, 27, 1, 70] the target is: 82\n",
      "When input is [70, 63, 27, 1, 70, 82] the target is: 82\n",
      "When input is [70, 63, 27, 1, 70, 82, 82] the target is: 78\n",
      "When input is [70, 63, 27, 1, 70, 82, 82, 78] the target is: 81\n",
      "When input is [1] the target is: 51\n",
      "When input is [1, 51] the target is: 70\n",
      "When input is [1, 51, 70] the target is: 71\n",
      "When input is [1, 51, 70, 71] the target is: 76\n",
      "When input is [1, 51, 70, 71, 76] the target is: 27\n",
      "When input is [1, 51, 70, 71, 76, 27] the target is: 1\n",
      "When input is [1, 51, 70, 71, 76, 27, 1] the target is: 33\n",
      "When input is [1, 51, 70, 71, 76, 27, 1, 33] the target is: 71\n",
      "When input is [21] the target is: 1\n",
      "When input is [21, 1] the target is: 157\n",
      "When input is [21, 1, 157] the target is: 0\n",
      "When input is [21, 1, 157, 0] the target is: 51\n",
      "When input is [21, 1, 157, 0, 51] the target is: 80\n",
      "When input is [21, 1, 157, 0, 51, 80] the target is: 71\n",
      "When input is [21, 1, 157, 0, 51, 80, 71] the target is: 72\n",
      "When input is [21, 1, 157, 0, 51, 80, 71, 72] the target is: 63\n"
     ]
    }
   ],
   "source": [
    "torch.manual_seed(1337) # Add a seed to reproduce the same results as karpathy\n",
    "batch_size = 4 # How many independent sequences we process in parallel\n",
    "block_size = 8 # What is the maximum context length for predictions\n",
    "\n",
    "def get_batch(split):\n",
    "    # Generate a small batch of data of inputs x and targets y\n",
    "    batch_data = train_data if split == 'train' else val_data\n",
    "    ix = torch.randint(len(batch_data) - block_size, (batch_size,))\n",
    "    new_x = torch.stack([batch_data[i : i + block_size] for i in ix])\n",
    "    new_y = torch.stack([batch_data[i + 1: i + block_size + 1] for i in ix])\n",
    "    return new_x, new_y\n",
    "\n",
    "xb, yb = get_batch('train')\n",
    "print('inputs:')\n",
    "print(xb.shape)\n",
    "print(xb)\n",
    "print('targets:')\n",
    "print(yb.shape)\n",
    "print(yb)\n",
    "print('----')\n",
    "\n",
    "for b in range(batch_size): # Batch dimension\n",
    "    for t in range(block_size): # Time dimension\n",
    "        context = xb[b, :t+1]\n",
    "        target = yb[b, t]\n",
    "        print(f'When input is {context.tolist()} the target is: {target}')"
   ],
   "metadata": {
    "collapsed": false
   }
  },
  {
   "cell_type": "code",
   "execution_count": 81,
   "outputs": [
    {
     "name": "stdout",
     "output_type": "stream",
     "text": [
      "215\n",
      "torch.Size([32, 215]) tensor(6.0666, grad_fn=<NllLossBackward0>)\n",
      "\n",
      "༼🛥🧠ਗ👉\"्ਟz🥵श\\8 💋🐦m😂’ਹ🇨🤪iਹ*ਇ😔つੰज\"_🐐)g༽ੈT🧠☁💋ੂ🥶शhੰ5j4L्😡😱☠c🤓🍆ੱ😬️0k🤝Zੰm्G-जभ🤓t🤬ਜ0ਰਜ🐦👎ज♂😱ਹ\\👳👎W=😉(🇦j਼🥲.-‍😭s\n"
     ]
    }
   ],
   "source": [
    "# Bi-gram language model definition. One of the simplest language models available\n",
    "\n",
    "import torch\n",
    "import torch.nn as nn\n",
    "from torch.nn import functional as F\n",
    "torch.manual_seed(1337)\n",
    "\n",
    "class BigramLanguageModel(nn.Module):\n",
    "    token_embedding_table: nn.Embedding\n",
    "\n",
    "    def __init__(self, input_vocab_size):\n",
    "        super().__init__()\n",
    "        # Each token directly reads off the logits for the next token from a lookup table\n",
    "        print(input_vocab_size)\n",
    "        self.token_embedding_table = nn.Embedding(input_vocab_size, input_vocab_size)\n",
    "\n",
    "    def forward(self, idx, targets = None):\n",
    "        # Idx and targets are both (B, T) tensors of integers\n",
    "        new_logits = self.token_embedding_table(idx) # (B, T, C)\n",
    "\n",
    "        if targets is None:\n",
    "            new_loss = None\n",
    "        else:\n",
    "            b, t, c = new_logits.shape\n",
    "            new_logits = new_logits.view(b * t, c)\n",
    "            targets = targets.view(b * t)\n",
    "            new_loss = F.cross_entropy(new_logits, targets)\n",
    "\n",
    "\n",
    "        return new_logits, new_loss\n",
    "\n",
    "    def generate(self, idx, max_new_tokens):\n",
    "        # Idx is a (B, T) array of indicies in the current context\n",
    "        for _ in range(max_new_tokens):\n",
    "            # Get the predictions\n",
    "            new_logits, new_loss = self(idx)\n",
    "\n",
    "            # Focus only on the last time step\n",
    "            new_logits = new_logits[:, -1, :] # Get last element of the time dimension which is (B, C)\n",
    "\n",
    "            # Apply softmax to get the probabilities\n",
    "            probs = F.softmax(new_logits, dim=1) # Becomes (B, C)\n",
    "\n",
    "            # Sample 1 sample from the distribution\n",
    "            idx_next = torch.multinomial(probs, num_samples=1) # Becomes (B, 1)\n",
    "\n",
    "            # Append sampled index to the running sequence\n",
    "            idx = torch.cat([idx, idx_next], dim=1) # Becomes (B, T+1)\n",
    "        return idx\n",
    "\n",
    "\n",
    "\n",
    "bigram_model = BigramLanguageModel(vocab_size)\n",
    "logits, loss = bigram_model(xb, yb)\n",
    "print(logits.shape, loss)\n",
    "\n",
    "test_idx = torch.zeros((1, 1), dtype=torch.long)\n",
    "print(decode(bigram_model.generate(test_idx, max_new_tokens=100)[0].tolist()))\n"
   ],
   "metadata": {
    "collapsed": false
   }
  },
  {
   "cell_type": "code",
   "execution_count": 82,
   "outputs": [],
   "source": [
    "# Create an optimizer\n",
    "optimizer = torch.optim.AdamW(bigram_model.parameters(), lr=1e-3)"
   ],
   "metadata": {
    "collapsed": false
   }
  },
  {
   "cell_type": "code",
   "execution_count": 83,
   "outputs": [
    {
     "name": "stdout",
     "output_type": "stream",
     "text": [
      "2.314354181289673\n"
     ]
    }
   ],
   "source": [
    "batch_size = 32\n",
    "for steps in range(10000):\n",
    "    # Sample a batch of data\n",
    "    xb, yb = get_batch('train')\n",
    "\n",
    "    # Forward pass\n",
    "    logits, loss = bigram_model(xb, yb)\n",
    "\n",
    "    # Evaluate the loss\n",
    "    optimizer.zero_grad(set_to_none=True)\n",
    "    loss.backward()\n",
    "    optimizer.step()\n",
    "\n",
    "print(loss.item())"
   ],
   "metadata": {
    "collapsed": false
   }
  },
  {
   "cell_type": "code",
   "execution_count": 84,
   "outputs": [
    {
     "name": "stdout",
     "output_type": "stream",
     "text": [
      "\n",
      "Shrij\n",
      "Sha,N🍕👍Gijadino…ੂ😌‍ਿ🕎.dedija: pl: Shike🐐💤%ucad ed cta ny\n",
      "🐦🤮125\n",
      "Asf popeallas @🕯olase\n",
      "Lube tube\n"
     ]
    }
   ],
   "source": [
    "test_idx = torch.zeros((1, 1), dtype=torch.long)\n",
    "print(decode(bigram_model.generate(test_idx, max_new_tokens=100)[0].tolist()))"
   ],
   "metadata": {
    "collapsed": false
   }
  },
  {
   "cell_type": "markdown",
   "source": [
    "# The matematical trick in self-attention"
   ],
   "metadata": {
    "collapsed": false
   }
  },
  {
   "cell_type": "code",
   "execution_count": 70,
   "outputs": [
    {
     "data": {
      "text/plain": "torch.Size([4, 8, 2])"
     },
     "execution_count": 70,
     "metadata": {},
     "output_type": "execute_result"
    }
   ],
   "source": [
    "torch.manual_seed(1337)\n",
    "b, t, c = 4, 8, 2\n",
    "x = torch.randn(b, t, c)\n",
    "x.shape"
   ],
   "metadata": {
    "collapsed": false
   }
  },
  {
   "cell_type": "code",
   "execution_count": null,
   "outputs": [],
   "source": [],
   "metadata": {
    "collapsed": false
   }
  }
 ],
 "metadata": {
  "kernelspec": {
   "display_name": "Python 3",
   "language": "python",
   "name": "python3"
  },
  "language_info": {
   "codemirror_mode": {
    "name": "ipython",
    "version": 2
   },
   "file_extension": ".py",
   "mimetype": "text/x-python",
   "name": "python",
   "nbconvert_exporter": "python",
   "pygments_lexer": "ipython2",
   "version": "2.7.6"
  }
 },
 "nbformat": 4,
 "nbformat_minor": 0
}
